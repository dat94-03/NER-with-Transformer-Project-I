{
  "cells": [
    {
      "cell_type": "markdown",
      "metadata": {
        "id": "BO4x-axkv9j8"
      },
      "source": [
        "## Class"
      ]
    },
    {
      "cell_type": "code",
      "execution_count": 1,
      "metadata": {
        "id": "MYJ2AE7Sv-Wc"
      },
      "outputs": [],
      "source": [
        "import torch\n",
        "from torch import nn\n",
        "\n",
        "class LayerNormalization():\n",
        "    def __init__(self, parameters_shape, eps=1e-5):\n",
        "        self.parameters_shape=parameters_shape\n",
        "        self.eps=eps\n",
        "        self.gamma = nn.Parameter(torch.ones(parameters_shape))\n",
        "        self.beta =  nn.Parameter(torch.zeros(parameters_shape))\n",
        "\n",
        "    def forward(self, inputs):\n",
        "        dims = [-(i + 1) for i in range(len(self.parameters_shape))]\n",
        "        mean = inputs.mean(dim=dims, keepdim=True)  \n",
        "        var = ((inputs - mean) ** 2).mean(dim=dims, keepdim=True)\n",
        "        std = (var + self.eps).sqrt()\n",
        "        y = (inputs - mean) / std\n",
        "        out = self.gamma * y  + self.beta\n",
        "        return out"
      ]
    },
    {
      "cell_type": "code",
      "execution_count": 2,
      "metadata": {
        "colab": {
          "base_uri": "https://localhost:8080/"
        },
        "id": "zrnZx0HYyoRz",
        "outputId": "7d894aa6-6181-4597-b160-a932fc274d70"
      },
      "outputs": [
        {
          "name": "stdout",
          "output_type": "stream",
          "text": [
            "input \n",
            " (torch.Size([5, 3, 8])) = \n",
            " tensor([[[ 1.0184, -2.2429, -1.3283,  0.6622, -1.6736,  0.3939,  0.0571,\n",
            "          -0.7898],\n",
            "         [ 0.5892, -0.8378,  0.2522, -0.0825, -0.8788,  0.0326,  0.2211,\n",
            "           0.7102],\n",
            "         [-0.1947, -0.1960, -0.4763,  0.8812,  1.6012,  1.2519, -0.7151,\n",
            "          -1.1179]],\n",
            "\n",
            "        [[ 0.4329,  1.3957, -0.8784,  1.9706,  1.7568,  0.3309, -0.2608,\n",
            "           2.1087],\n",
            "         [-1.1645, -1.5364, -2.0194, -1.4861, -0.3010,  0.9819,  1.3854,\n",
            "           0.6967],\n",
            "         [-0.5434, -0.7746,  0.1574,  1.0256,  0.7936, -0.1484, -0.9630,\n",
            "          -0.8112]],\n",
            "\n",
            "        [[-0.0872, -0.8679,  0.7315,  0.6990, -0.1256, -0.3359,  0.2288,\n",
            "           0.2636],\n",
            "         [-0.3613, -0.4230, -0.5867,  0.7410,  0.0177, -0.0479,  1.7613,\n",
            "           1.2320],\n",
            "         [ 0.5863, -0.3138,  1.0993,  1.2000,  0.1440,  1.2297, -1.2679,\n",
            "           0.9455]],\n",
            "\n",
            "        [[ 0.6666,  0.0877,  0.1341,  0.5566, -2.3257,  2.5611, -0.7490,\n",
            "           0.0487],\n",
            "         [ 2.5620,  0.6886, -1.2403, -0.0051,  0.2021, -1.6555,  0.8800,\n",
            "          -0.6172],\n",
            "         [ 0.7516, -0.1323, -0.2641,  1.2722,  0.2210, -0.7430,  1.6901,\n",
            "          -1.5141]],\n",
            "\n",
            "        [[ 0.8552,  0.6359, -0.0941,  0.9721,  1.0902, -2.4149, -0.8114,\n",
            "           0.6734],\n",
            "         [ 0.1508,  2.0294,  0.3854,  0.0429, -0.1272, -1.1230,  0.7484,\n",
            "          -1.5562],\n",
            "         [ 1.3792, -0.3142, -0.9427, -0.2543, -0.2037,  1.2729, -1.3083,\n",
            "          -1.6217]]])\n"
          ]
        }
      ],
      "source": [
        "batch_size = 3\n",
        "sentence_length = 5\n",
        "embedding_dim = 8 \n",
        "inputs = torch.randn(sentence_length, batch_size, embedding_dim)\n",
        "\n",
        "print(f\"input \\n ({inputs.size()}) = \\n {inputs}\")"
      ]
    },
    {
      "cell_type": "code",
      "execution_count": 3,
      "metadata": {
        "id": "3U3akvkFys68"
      },
      "outputs": [],
      "source": [
        "layer_norm = LayerNormalization(inputs.size()[-1:])"
      ]
    },
    {
      "cell_type": "code",
      "execution_count": 4,
      "metadata": {
        "colab": {
          "base_uri": "https://localhost:8080/"
        },
        "id": "JQ9lt7LUy-g9",
        "outputId": "658ed727-ec37-4eee-fef8-e553cb084e88"
      },
      "outputs": [],
      "source": [
        "out = layer_norm.forward(inputs)"
      ]
    },
    {
      "cell_type": "code",
      "execution_count": 5,
      "metadata": {
        "colab": {
          "base_uri": "https://localhost:8080/"
        },
        "id": "TSUGdHwL6yD2",
        "outputId": "e38f4032-4a80-477c-d0d7-ff64fe0b13e9"
      },
      "outputs": [
        {
          "data": {
            "text/plain": [
              "(tensor(2.7319e-08, grad_fn=<MeanBackward0>),\n",
              " tensor(1.0215, grad_fn=<StdBackward0>))"
            ]
          },
          "execution_count": 5,
          "metadata": {},
          "output_type": "execute_result"
        }
      ],
      "source": [
        "out[0].mean(), out[0].std()"
      ]
    }
  ],
  "metadata": {
    "colab": {
      "provenance": []
    },
    "kernelspec": {
      "display_name": "Python 3",
      "name": "python3"
    },
    "language_info": {
      "codemirror_mode": {
        "name": "ipython",
        "version": 3
      },
      "file_extension": ".py",
      "mimetype": "text/x-python",
      "name": "python",
      "nbconvert_exporter": "python",
      "pygments_lexer": "ipython3",
      "version": "3.11.8"
    }
  },
  "nbformat": 4,
  "nbformat_minor": 0
}
