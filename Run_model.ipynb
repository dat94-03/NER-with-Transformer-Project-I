{
 "cells": [
  {
   "cell_type": "code",
   "execution_count": null,
   "metadata": {},
   "outputs": [],
   "source": [
    "!pip install transformers[torch]\n",
    "!pip install spacy"
   ]
  },
  {
   "cell_type": "code",
   "execution_count": 1,
   "metadata": {},
   "outputs": [
    {
     "name": "stderr",
     "output_type": "stream",
     "text": [
      "c:\\Users\\tiend\\AppData\\Local\\Programs\\Python\\Python311\\Lib\\site-packages\\tqdm\\auto.py:21: TqdmWarning: IProgress not found. Please update jupyter and ipywidgets. See https://ipywidgets.readthedocs.io/en/stable/user_install.html\n",
      "  from .autonotebook import tqdm as notebook_tqdm\n"
     ]
    }
   ],
   "source": [
    "from transformers import BertTokenizerFast\n",
    "from transformers import AutoModelForTokenClassification\n",
    "from transformers import pipeline\n",
    "import spacy\n",
    "from spacy import displacy\n"
   ]
  },
  {
   "cell_type": "code",
   "execution_count": 10,
   "metadata": {},
   "outputs": [
    {
     "name": "stderr",
     "output_type": "stream",
     "text": [
      "tokenizer_config.json: 100%|██████████| 28.0/28.0 [00:00<00:00, 27.9kB/s]\n",
      "c:\\Users\\tiend\\AppData\\Local\\Programs\\Python\\Python311\\Lib\\site-packages\\huggingface_hub\\file_download.py:149: UserWarning: `huggingface_hub` cache-system uses symlinks by default to efficiently store duplicated files but your machine does not support them in C:\\Users\\tiend\\.cache\\huggingface\\hub\\models--bert-base-multilingual-uncased. Caching files will still work but in a degraded version that might require more space on your disk. This warning can be disabled by setting the `HF_HUB_DISABLE_SYMLINKS_WARNING` environment variable. For more details, see https://huggingface.co/docs/huggingface_hub/how-to-cache#limitations.\n",
      "To support symlinks on Windows, you either need to activate Developer Mode or to run Python as an administrator. In order to see activate developer mode, see this article: https://docs.microsoft.com/en-us/windows/apps/get-started/enable-your-device-for-development\n",
      "  warnings.warn(message)\n",
      "vocab.txt: 100%|██████████| 872k/872k [00:00<00:00, 1.18MB/s]\n",
      "tokenizer.json: 100%|██████████| 1.72M/1.72M [00:01<00:00, 1.37MB/s]\n",
      "config.json: 100%|██████████| 625/625 [00:00<00:00, 626kB/s]\n"
     ]
    }
   ],
   "source": [
    "tokenizer = BertTokenizerFast.from_pretrained(\"bert-base-multilingual-uncased\")\n",
    "model_fine_tuned = AutoModelForTokenClassification.from_pretrained(\"multilingual_ner\")"
   ]
  },
  {
   "cell_type": "code",
   "execution_count": 11,
   "metadata": {},
   "outputs": [
    {
     "data": {
      "text/plain": [
       "[{'entity': 'B-GENDER',\n",
       "  'score': 0.93570244,\n",
       "  'index': 3,\n",
       "  'word': 'nu',\n",
       "  'start': 10,\n",
       "  'end': 12},\n",
       " {'entity': 'B-NAME',\n",
       "  'score': 0.70780706,\n",
       "  'index': 4,\n",
       "  'word': 'nguyen',\n",
       "  'start': 13,\n",
       "  'end': 19},\n",
       " {'entity': 'B-NAME',\n",
       "  'score': 0.44526887,\n",
       "  'index': 5,\n",
       "  'word': 'thi',\n",
       "  'start': 20,\n",
       "  'end': 23},\n",
       " {'entity': 'B-NAME',\n",
       "  'score': 0.60930794,\n",
       "  'index': 6,\n",
       "  'word': 'a',\n",
       "  'start': 24,\n",
       "  'end': 25},\n",
       " {'entity': 'B-PATIENT_ID',\n",
       "  'score': 0.99087757,\n",
       "  'index': 9,\n",
       "  'word': '512',\n",
       "  'start': 33,\n",
       "  'end': 36},\n",
       " {'entity': 'B-SYMPTOM_AND_DISEASE',\n",
       "  'score': 0.9871335,\n",
       "  'index': 14,\n",
       "  'word': 'ho',\n",
       "  'start': 53,\n",
       "  'end': 55},\n",
       " {'entity': 'B-SYMPTOM_AND_DISEASE',\n",
       "  'score': 0.9874893,\n",
       "  'index': 16,\n",
       "  'word': 'kho',\n",
       "  'start': 57,\n",
       "  'end': 60},\n",
       " {'entity': 'I-SYMPTOM_AND_DISEASE',\n",
       "  'score': 0.98060364,\n",
       "  'index': 17,\n",
       "  'word': 'tho',\n",
       "  'start': 61,\n",
       "  'end': 64},\n",
       " {'entity': 'B-LOCATION',\n",
       "  'score': 0.99649686,\n",
       "  'index': 19,\n",
       "  'word': 'benh',\n",
       "  'start': 69,\n",
       "  'end': 73},\n",
       " {'entity': 'I-LOCATION',\n",
       "  'score': 0.99722373,\n",
       "  'index': 20,\n",
       "  'word': 'vien',\n",
       "  'start': 74,\n",
       "  'end': 78},\n",
       " {'entity': 'I-LOCATION',\n",
       "  'score': 0.9970914,\n",
       "  'index': 21,\n",
       "  'word': 'bach',\n",
       "  'start': 79,\n",
       "  'end': 83},\n",
       " {'entity': 'I-LOCATION',\n",
       "  'score': 0.9966097,\n",
       "  'index': 22,\n",
       "  'word': 'mai',\n",
       "  'start': 84,\n",
       "  'end': 87}]"
      ]
     },
     "execution_count": 11,
     "metadata": {},
     "output_type": "execute_result"
    }
   ],
   "source": [
    "nlp = pipeline(\"ner\", model=model_fine_tuned, tokenizer=tokenizer)\n",
    "\n",
    "\n",
    "example = \"Bệnh nhân nữ Nguyễn Thị A  mã số 512, có triệu chứng ho, khó thở tại bệnh viện Bạch Mai\"\n",
    "\n",
    "data = nlp(example)\n",
    "data"
   ]
  },
  {
   "cell_type": "code",
   "execution_count": 12,
   "metadata": {},
   "outputs": [
    {
     "data": {
      "text/html": [
       "<span class=\"tex2jax_ignore\"><div class=\"entities\" style=\"line-height: 2.5; direction: ltr\">Bệnh nhân \n",
       "<mark class=\"entity\" style=\"background: #3357FF; padding: 0.45em 0.6em; margin: 0 0.25em; line-height: 1; border-radius: 0.35em;\">\n",
       "    nữ\n",
       "    <span style=\"font-size: 0.8em; font-weight: bold; line-height: 1; border-radius: 0.35em; vertical-align: middle; margin-left: 0.5rem\">GENDER</span>\n",
       "</mark>\n",
       " \n",
       "<mark class=\"entity\" style=\"background: #FFC733; padding: 0.45em 0.6em; margin: 0 0.25em; line-height: 1; border-radius: 0.35em;\">\n",
       "    Nguyễn\n",
       "    <span style=\"font-size: 0.8em; font-weight: bold; line-height: 1; border-radius: 0.35em; vertical-align: middle; margin-left: 0.5rem\">NAME</span>\n",
       "</mark>\n",
       " \n",
       "<mark class=\"entity\" style=\"background: #FFC733; padding: 0.45em 0.6em; margin: 0 0.25em; line-height: 1; border-radius: 0.35em;\">\n",
       "    Thị\n",
       "    <span style=\"font-size: 0.8em; font-weight: bold; line-height: 1; border-radius: 0.35em; vertical-align: middle; margin-left: 0.5rem\">NAME</span>\n",
       "</mark>\n",
       " \n",
       "<mark class=\"entity\" style=\"background: #FFC733; padding: 0.45em 0.6em; margin: 0 0.25em; line-height: 1; border-radius: 0.35em;\">\n",
       "    A\n",
       "    <span style=\"font-size: 0.8em; font-weight: bold; line-height: 1; border-radius: 0.35em; vertical-align: middle; margin-left: 0.5rem\">NAME</span>\n",
       "</mark>\n",
       "  mã số \n",
       "<mark class=\"entity\" style=\"background: #C733FF; padding: 0.45em 0.6em; margin: 0 0.25em; line-height: 1; border-radius: 0.35em;\">\n",
       "    512\n",
       "    <span style=\"font-size: 0.8em; font-weight: bold; line-height: 1; border-radius: 0.35em; vertical-align: middle; margin-left: 0.5rem\">PATIENT_ID</span>\n",
       "</mark>\n",
       ", có triệu chứng \n",
       "<mark class=\"entity\" style=\"background: #FF3333; padding: 0.45em 0.6em; margin: 0 0.25em; line-height: 1; border-radius: 0.35em;\">\n",
       "    ho\n",
       "    <span style=\"font-size: 0.8em; font-weight: bold; line-height: 1; border-radius: 0.35em; vertical-align: middle; margin-left: 0.5rem\">SYMPTOM_AND_DISEASE</span>\n",
       "</mark>\n",
       ", \n",
       "<mark class=\"entity\" style=\"background: #FF3333; padding: 0.45em 0.6em; margin: 0 0.25em; line-height: 1; border-radius: 0.35em;\">\n",
       "    khó\n",
       "    <span style=\"font-size: 0.8em; font-weight: bold; line-height: 1; border-radius: 0.35em; vertical-align: middle; margin-left: 0.5rem\">SYMPTOM_AND_DISEASE</span>\n",
       "</mark>\n",
       " \n",
       "<mark class=\"entity\" style=\"background: #FF3333; padding: 0.45em 0.6em; margin: 0 0.25em; line-height: 1; border-radius: 0.35em;\">\n",
       "    thở\n",
       "    <span style=\"font-size: 0.8em; font-weight: bold; line-height: 1; border-radius: 0.35em; vertical-align: middle; margin-left: 0.5rem\">SYMPTOM_AND_DISEASE</span>\n",
       "</mark>\n",
       " tại \n",
       "<mark class=\"entity\" style=\"background: #57FF33; padding: 0.45em 0.6em; margin: 0 0.25em; line-height: 1; border-radius: 0.35em;\">\n",
       "    bệnh\n",
       "    <span style=\"font-size: 0.8em; font-weight: bold; line-height: 1; border-radius: 0.35em; vertical-align: middle; margin-left: 0.5rem\">LOCATION</span>\n",
       "</mark>\n",
       " \n",
       "<mark class=\"entity\" style=\"background: #57FF33; padding: 0.45em 0.6em; margin: 0 0.25em; line-height: 1; border-radius: 0.35em;\">\n",
       "    viện\n",
       "    <span style=\"font-size: 0.8em; font-weight: bold; line-height: 1; border-radius: 0.35em; vertical-align: middle; margin-left: 0.5rem\">LOCATION</span>\n",
       "</mark>\n",
       " \n",
       "<mark class=\"entity\" style=\"background: #57FF33; padding: 0.45em 0.6em; margin: 0 0.25em; line-height: 1; border-radius: 0.35em;\">\n",
       "    Bạch\n",
       "    <span style=\"font-size: 0.8em; font-weight: bold; line-height: 1; border-radius: 0.35em; vertical-align: middle; margin-left: 0.5rem\">LOCATION</span>\n",
       "</mark>\n",
       " \n",
       "<mark class=\"entity\" style=\"background: #57FF33; padding: 0.45em 0.6em; margin: 0 0.25em; line-height: 1; border-radius: 0.35em;\">\n",
       "    Mai\n",
       "    <span style=\"font-size: 0.8em; font-weight: bold; line-height: 1; border-radius: 0.35em; vertical-align: middle; margin-left: 0.5rem\">LOCATION</span>\n",
       "</mark>\n",
       "</div></span>"
      ],
      "text/plain": [
       "<IPython.core.display.HTML object>"
      ]
     },
     "metadata": {},
     "output_type": "display_data"
    }
   ],
   "source": [
    "\n",
    "\n",
    "colors = {\n",
    "    \n",
    "    'AGE': '#FF5733',\n",
    "    'DATE': '#33FF57',\n",
    "    'GENDER': '#3357FF',\n",
    "    'JOB': '#FF33B8',\n",
    "    'LOCATION': '#57FF33',\n",
    "    'NAME': '#FFC733',\n",
    "    'ORGANIZATION': '#33FFD6',\n",
    "    'PATIENT_ID': '#C733FF',\n",
    "    'SYMPTOM_AND_DISEASE': '#FF3333',\n",
    "    'TRANSPORTATION': '#33FFC7',\n",
    "    'O': '#FFFFFF',  # O (other) label color\n",
    "}\n",
    "\n",
    "# Create a spaCy Doc object with an empty model\n",
    "nlp = spacy.blank(\"en\")\n",
    "text = example\n",
    "doc = nlp(text)\n",
    "\n",
    "# Populate the NER annotations\n",
    "entities = [(item['start'], item['end'], item['entity'].split('-')[1]) for item in data]\n",
    "custom_entities = []\n",
    "for span_start, span_end, label in entities:\n",
    "    ent = doc.char_span(span_start, span_end, label=label)\n",
    "    if ent is None:\n",
    "        continue\n",
    "    custom_entities.append(ent)\n",
    "\n",
    "doc.ents = custom_entities\n",
    "\n",
    "options = {\"ents\": list(set(label['entity'].split('-')[1] for label in data)), \"colors\": colors}\n",
    "displacy.render(doc, style='ent', options=options, jupyter=True)\n"
   ]
  }
 ],
 "metadata": {
  "kernelspec": {
   "display_name": "Python 3",
   "language": "python",
   "name": "python3"
  },
  "language_info": {
   "codemirror_mode": {
    "name": "ipython",
    "version": 3
   },
   "file_extension": ".py",
   "mimetype": "text/x-python",
   "name": "python",
   "nbconvert_exporter": "python",
   "pygments_lexer": "ipython3",
   "version": "3.11.4"
  }
 },
 "nbformat": 4,
 "nbformat_minor": 2
}
